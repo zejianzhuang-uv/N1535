{
 "cells": [
  {
   "cell_type": "markdown",
   "metadata": {},
   "source": [
    "# 5 题"
   ]
  },
  {
   "cell_type": "markdown",
   "metadata": {},
   "source": [
    "方差分析多用于两个及两个以上样本均数差异的显著性检验。为了推断两种降脂药的ACE浓度的影响，采用方差分析。"
   ]
  },
  {
   "cell_type": "code",
   "execution_count": 1,
   "metadata": {},
   "outputs": [
    {
     "name": "stdout",
     "output_type": "stream",
     "text": [
      "统计量的值为: 11.208\n",
      "P值为: 0.001\n",
      "两组ACE浓度不同\n"
     ]
    }
   ],
   "source": [
    "import scipy.stats as stats\n",
    "\n",
    "# 数据\n",
    "control_group = [61.24, 58.65, 46.79, 37.43, 66.54, 59.27]\n",
    "drug_A_group = [82.35, 56.47, 61.57, 48.79, 62.54, 60.87]\n",
    "drug_B_group = [26.23, 46.87, 24.36, 38.54, 42.16, 30.33]\n",
    "\n",
    "\n",
    "F_statistic, p_value = stats.f_oneway(control_group, drug_A_group, drug_B_group)\n",
    "\n",
    "\n",
    "alpha = 0.05 #按照 alpha=0.05进行检验\n",
    "\n",
    "print(f\"统计量的值为: {F_statistic:.3f}\")\n",
    "print(f\"P值为: {p_value:.3f}\")\n",
    "if p_value < alpha:\n",
    "    print(\"两组ACE浓度不同\")\n",
    "else:\n",
    "    print(\"两组ACE浓度相同\")\n"
   ]
  },
  {
   "cell_type": "markdown",
   "metadata": {},
   "source": [
    "# 第 7 题"
   ]
  },
  {
   "cell_type": "markdown",
   "metadata": {},
   "source": [
    "为了反映中药组和西药组的致死率是否相同，采用卡方检验进行测试。"
   ]
  },
  {
   "cell_type": "code",
   "execution_count": 2,
   "metadata": {},
   "outputs": [
    {
     "name": "stdout",
     "output_type": "stream",
     "text": [
      "统计量(卡方的值)为: 0.434\n",
      "p值为: 0.510\n",
      "两组的致死率相同\n"
     ]
    }
   ],
   "source": [
    "import scipy.stats as stats\n",
    "import numpy as np\n",
    "\n",
    "data = np.array([[66, 3], # 中药组的观察数和死亡数\n",
    "                 [14, 2]]) # 西药组的观察数和死亡数\n",
    "\n",
    "# 卡方值，p值，自由度，期待值\n",
    "chi2, p_value, dof, expected_val = stats.chi2_contingency(data)\n",
    "\n",
    "#设置置信度为 95%\n",
    "prob = 0.95\n",
    "critical = stats.chi2.ppf(prob, dof) # 临界阈值\n",
    "\n",
    "\n",
    "print(f\"统计量(卡方的值)为: {chi2:.3f}\")\n",
    "print(f\"p值为: {p_value:.3f}\")\n",
    "\n",
    "if chi2 > critical:\n",
    "    print(\"两组的致死率不同\")\n",
    "else:\n",
    "    print(\"两组的致死率相同\")"
   ]
  },
  {
   "cell_type": "markdown",
   "metadata": {},
   "source": [
    "# 9 题"
   ]
  },
  {
   "cell_type": "code",
   "execution_count": 3,
   "metadata": {},
   "outputs": [
    {
     "name": "stdout",
     "output_type": "stream",
     "text": [
      "统计量为: 42.484\n",
      "p值为: 0.00018\n",
      "相关\n"
     ]
    },
    {
     "name": "stderr",
     "output_type": "stream",
     "text": [
      "/opt/miniconda3/envs/tae2024/lib/python3.9/site-packages/scipy/stats/_axis_nan_policy.py:531: UserWarning: kurtosistest only valid for n>=20 ... continuing anyway, n=10\n",
      "  res = hypotest_fun_out(*samples, **kwds)\n"
     ]
    }
   ],
   "source": [
    "import numpy as np\n",
    "import statsmodels.api as sm\n",
    "\n",
    "# 体重和体表面积数据\n",
    "weights = np.array([11.0, 11.8, 12.0, 12.3, 13.1, 13.7, 14.4, 14.9, 15.2, 16.0])\n",
    "surface_area = np.array([5.283, 5.299, 5.385, 5.602, 5.292, 6.014, 5.830, 6.102, 6.075, 6.411])\n",
    "\n",
    "# 增加常数项（截距）用于回归\n",
    "X = sm.add_constant(weights)\n",
    "\n",
    "# 进行线性回归\n",
    "model = sm.OLS(surface_area, X)\n",
    "results = model.fit()\n",
    "\n",
    "# 获取回归统计量和P值\n",
    "summary = results.summary()\n",
    "summary.tables[1]  # 返回回归系数表格\n",
    "# 获取回归系数和P值\n",
    "coefficients = results.params\n",
    "p_values = results.pvalues\n",
    "\n",
    "alpha = 0.05\n",
    "\n",
    "# 输出回归系数和P值\n",
    "coefficients, p_values\n",
    "print(f\"统计量为: {results.fvalue:.3f}\")\n",
    "print(f\"p值为: {results.f_pvalue:.5f}\")\n",
    "\n",
    "if results.f_pvalue < alpha:\n",
    "    print(\"相关\")\n",
    "else:\n",
    "    print(\"不相关\")"
   ]
  },
  {
   "cell_type": "markdown",
   "metadata": {},
   "source": [
    "# 11 题"
   ]
  },
  {
   "cell_type": "markdown",
   "metadata": {},
   "source": [
    "为了解决该问题，可以采用非参数检验方法中的秩和检验（如 Mann-Whitney U 检验或 Wilcoxon 秩和检验）来比较两组病人的生存期是否有差别。因为数据中包含右删失的生存时间（如带“+”号的数据表示存活的病例），需要考虑删失数据的特殊性，因此建议采用Log-Rank 检验，这是一种适合生存数据的检验方法。\n",
    "\n",
    "以下是操作步骤和Python代码实现：\n",
    "数据准备\n",
    "\n",
    "甲治疗组（带“+”表示删失）: [5, 7, 13, 13, 23, 30, 30, 38, 42, 42, 45]\n",
    "删失标记（1表示删失，0表示未删失）：[0, 1, 0, 0, 0, 1, 0, 0, 0, 0, 1]\n",
    "\n",
    "乙治疗组：[1, 3, 3, 7, 15, 15, 23, 30]\n",
    "删失标记（1表示删失，0表示未删失）：[0, 0, 0, 0, 0, 0, 0, 0]\n",
    "使用 Python 进行分析\n",
    "\n",
    "我们将使用 lifelines 库中的 logrank_test 方法来进行 Log-Rank 检验。代码如下："
   ]
  },
  {
   "cell_type": "markdown",
   "metadata": {},
   "source": [
    "这题采用生存分析。"
   ]
  },
  {
   "cell_type": "code",
   "execution_count": 4,
   "metadata": {},
   "outputs": [
    {
     "name": "stdout",
     "output_type": "stream",
     "text": [
      "统计量: 0.658\n",
      "P值: 0.417\n",
      "相同\n"
     ]
    }
   ],
   "source": [
    "from lifelines.statistics import logrank_test\n",
    "\n",
    "# 数据准备\n",
    "group_A_times = [5, 7, 13, 13, 23, 30, 30, 38, 42, 42, 45]\n",
    "group_A_censorship = [0, 1, 0, 0, 0, 1, 0, 0, 0, 0, 1]\n",
    "\n",
    "group_B_times = [1, 3, 3, 7, 15, 15, 23, 30]\n",
    "group_B_censorship = [0, 0, 0, 0, 0, 0, 0, 0]\n",
    "\n",
    "# Log-Rank 检验\n",
    "results = logrank_test(\n",
    "    group_A_times, group_B_times,\n",
    "    event_observed_A=group_A_censorship,\n",
    "    event_observed_B=group_B_censorship\n",
    ")\n",
    "alpha = 0.05\n",
    "# 输出结果\n",
    "print(f\"统计量: {results.test_statistic:.3f}\")\n",
    "print(f\"P值: {results.p_value:.3f}\")\n",
    "\n",
    "if results.p_value > alpha:\n",
    "    print(\"相同\")\n",
    "else:\n",
    "    print(\"不相同\")"
   ]
  }
 ],
 "metadata": {
  "kernelspec": {
   "display_name": "tae2024",
   "language": "python",
   "name": "python3"
  },
  "language_info": {
   "codemirror_mode": {
    "name": "ipython",
    "version": 3
   },
   "file_extension": ".py",
   "mimetype": "text/x-python",
   "name": "python",
   "nbconvert_exporter": "python",
   "pygments_lexer": "ipython3",
   "version": "undefined.undefined.undefined"
  }
 },
 "nbformat": 4,
 "nbformat_minor": 2
}
